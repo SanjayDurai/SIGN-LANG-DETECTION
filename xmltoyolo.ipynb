{
 "cells": [
  {
   "cell_type": "code",
   "execution_count": 5,
   "metadata": {},
   "outputs": [
    {
     "name": "stdout",
     "output_type": "stream",
     "text": [
      "Converted and saved: E:/PROJECTS/SIGN-LANG-DETECTION/dataset/labels/val\\thanks.3315035c-f5c6-11ee-8193-505a652106d8.txt\n",
      "Converted and saved: E:/PROJECTS/SIGN-LANG-DETECTION/dataset/labels/val\\thanks.39176954-f5c6-11ee-9f5c-505a652106d8.txt\n",
      "Conversion completed for all XML files.\n"
     ]
    }
   ],
   "source": [
    "import xml.etree.ElementTree as ET\n",
    "import os\n",
    "import glob\n",
    "\n",
    "# Define the directory containing XML files and where to save the converted .txt files\n",
    "xml_folder = \"E:/PROJECTS/SIGN-LANG-DETECTION/New folder\"  # Change to your folder path\n",
    "output_folder = \"E:/PROJECTS/SIGN-LANG-DETECTION/dataset/labels/val\"  # Change to your folder path\n",
    "\n",
    "# Define the label map (class name to class ID mapping)\n",
    "label_map = {\n",
    "    \"Hello\": 0,\n",
    "    \"I Love You\": 1,\n",
    "    \"No\": 2,\n",
    "    \"Thank You\": 3,\n",
    "    \"Yes\": 4\n",
    "}\n",
    "\n",
    "# Create the output folder if it doesn't exist\n",
    "os.makedirs(output_folder, exist_ok=True)\n",
    "\n",
    "def convert_xml_to_yolo(xml_file, label_map):\n",
    "    tree = ET.parse(xml_file)\n",
    "    root = tree.getroot()\n",
    "\n",
    "    size = root.find('size')\n",
    "    img_width = int(size.find('width').text)\n",
    "    img_height = int(size.find('height').text)\n",
    "\n",
    "    yolo_annotations = []\n",
    "\n",
    "    for obj in root.iter('object'):\n",
    "        class_name = obj.find('name').text\n",
    "        class_id = label_map.get(class_name)\n",
    "        \n",
    "        # Skip if class is not in label_map\n",
    "        if class_id is None:\n",
    "            print(f\"Warning: '{class_name}' not found in label map. Skipping.\")\n",
    "            continue\n",
    "\n",
    "        bbox = obj.find('bndbox')\n",
    "        xmin = int(bbox.find('xmin').text)\n",
    "        ymin = int(bbox.find('ymin').text)\n",
    "        xmax = int(bbox.find('xmax').text)\n",
    "        ymax = int(bbox.find('ymax').text)\n",
    "\n",
    "        # Convert to YOLO format\n",
    "        x_center = ((xmin + xmax) / 2) / img_width\n",
    "        y_center = ((ymin + ymax) / 2) / img_height\n",
    "        width = (xmax - xmin) / img_width\n",
    "        height = (ymax - ymin) / img_height\n",
    "\n",
    "        # Format: class_id x_center y_center width height\n",
    "        yolo_annotations.append(f\"{class_id} {x_center} {y_center} {width} {height}\")\n",
    "\n",
    "    return yolo_annotations\n",
    "\n",
    "# Convert all XML files in the directory\n",
    "xml_files = glob.glob(os.path.join(xml_folder, \"*.xml\"))\n",
    "\n",
    "for xml_file in xml_files:\n",
    "    yolo_annotations = convert_xml_to_yolo(xml_file, label_map)\n",
    "    \n",
    "    # Save the annotations as a .txt file with the same base name\n",
    "    txt_filename = os.path.basename(xml_file).replace('.xml', '.txt')\n",
    "    txt_path = os.path.join(output_folder, txt_filename)\n",
    "    \n",
    "    with open(txt_path, 'w') as f:\n",
    "        f.write(\"\\n\".join(yolo_annotations))\n",
    "\n",
    "    print(f\"Converted and saved: {txt_path}\")\n",
    "\n",
    "print(\"Conversion completed for all XML files.\")\n"
   ]
  }
 ],
 "metadata": {
  "kernelspec": {
   "display_name": "yolov5",
   "language": "python",
   "name": "python3"
  },
  "language_info": {
   "codemirror_mode": {
    "name": "ipython",
    "version": 3
   },
   "file_extension": ".py",
   "mimetype": "text/x-python",
   "name": "python",
   "nbconvert_exporter": "python",
   "pygments_lexer": "ipython3",
   "version": "3.8.20"
  }
 },
 "nbformat": 4,
 "nbformat_minor": 2
}
